{
 "cells": [
  {
   "cell_type": "code",
   "execution_count": 1,
   "metadata": {},
   "outputs": [],
   "source": [
    "%load_ext autoreload\n",
    "%autoreload 2"
   ]
  },
  {
   "cell_type": "code",
   "execution_count": 10,
   "metadata": {},
   "outputs": [],
   "source": [
    "from data import igpm\n",
    "from experiments.extract import extract\n",
    "\n",
    "import pandas as pd\n",
    "import altair as alt"
   ]
  },
  {
   "cell_type": "code",
   "execution_count": 15,
   "metadata": {},
   "outputs": [],
   "source": [
    "df = extract('RENTAL')\n",
    "igpm = igpm.read()"
   ]
  },
  {
   "cell_type": "code",
   "execution_count": 12,
   "metadata": {},
   "outputs": [],
   "source": [
    "df['month'] = pd.to_datetime(df.created_date.dt.strftime('%Y-%m-01'))\n",
    "aux = df.groupby(['month']).total.agg(['count', 'median', 'mean']).reset_index()"
   ]
  },
  {
   "cell_type": "code",
   "execution_count": 14,
   "metadata": {},
   "outputs": [
    {
     "data": {
      "text/html": [
       "\n",
       "<div id=\"altair-viz-c059cbcca6164b6389b7f7153728f9a4\"></div>\n",
       "<script type=\"text/javascript\">\n",
       "  var VEGA_DEBUG = (typeof VEGA_DEBUG == \"undefined\") ? {} : VEGA_DEBUG;\n",
       "  (function(spec, embedOpt){\n",
       "    let outputDiv = document.currentScript.previousElementSibling;\n",
       "    if (outputDiv.id !== \"altair-viz-c059cbcca6164b6389b7f7153728f9a4\") {\n",
       "      outputDiv = document.getElementById(\"altair-viz-c059cbcca6164b6389b7f7153728f9a4\");\n",
       "    }\n",
       "    const paths = {\n",
       "      \"vega\": \"https://cdn.jsdelivr.net/npm//vega@5?noext\",\n",
       "      \"vega-lib\": \"https://cdn.jsdelivr.net/npm//vega-lib?noext\",\n",
       "      \"vega-lite\": \"https://cdn.jsdelivr.net/npm//vega-lite@4.17.0?noext\",\n",
       "      \"vega-embed\": \"https://cdn.jsdelivr.net/npm//vega-embed@6?noext\",\n",
       "    };\n",
       "\n",
       "    function maybeLoadScript(lib, version) {\n",
       "      var key = `${lib.replace(\"-\", \"\")}_version`;\n",
       "      return (VEGA_DEBUG[key] == version) ?\n",
       "        Promise.resolve(paths[lib]) :\n",
       "        new Promise(function(resolve, reject) {\n",
       "          var s = document.createElement('script');\n",
       "          document.getElementsByTagName(\"head\")[0].appendChild(s);\n",
       "          s.async = true;\n",
       "          s.onload = () => {\n",
       "            VEGA_DEBUG[key] = version;\n",
       "            return resolve(paths[lib]);\n",
       "          };\n",
       "          s.onerror = () => reject(`Error loading script: ${paths[lib]}`);\n",
       "          s.src = paths[lib];\n",
       "        });\n",
       "    }\n",
       "\n",
       "    function showError(err) {\n",
       "      outputDiv.innerHTML = `<div class=\"error\" style=\"color:red;\">${err}</div>`;\n",
       "      throw err;\n",
       "    }\n",
       "\n",
       "    function displayChart(vegaEmbed) {\n",
       "      vegaEmbed(outputDiv, spec, embedOpt)\n",
       "        .catch(err => showError(`Javascript Error: ${err.message}<br>This usually means there's a typo in your chart specification. See the javascript console for the full traceback.`));\n",
       "    }\n",
       "\n",
       "    if(typeof define === \"function\" && define.amd) {\n",
       "      requirejs.config({paths});\n",
       "      require([\"vega-embed\"], displayChart, err => showError(`Error loading script: ${err.message}`));\n",
       "    } else {\n",
       "      maybeLoadScript(\"vega\", \"5\")\n",
       "        .then(() => maybeLoadScript(\"vega-lite\", \"4.17.0\"))\n",
       "        .then(() => maybeLoadScript(\"vega-embed\", \"6\"))\n",
       "        .catch(showError)\n",
       "        .then(() => displayChart(vegaEmbed));\n",
       "    }\n",
       "  })({\"config\": {\"view\": {\"continuousWidth\": 400, \"continuousHeight\": 300}}, \"layer\": [{\"mark\": \"point\", \"encoding\": {\"tooltip\": [{\"field\": \"month\", \"type\": \"temporal\"}, {\"field\": \"count\", \"type\": \"quantitative\"}, {\"field\": \"median\", \"type\": \"quantitative\"}], \"x\": {\"field\": \"month\", \"type\": \"temporal\"}, \"y\": {\"field\": \"median\", \"type\": \"quantitative\"}}, \"selection\": {\"selector003\": {\"type\": \"interval\", \"bind\": \"scales\", \"encodings\": [\"x\", \"y\"]}}}, {\"mark\": \"line\", \"encoding\": {\"x\": {\"field\": \"month\", \"type\": \"temporal\"}, \"y\": {\"field\": \"median\", \"type\": \"quantitative\"}}}], \"data\": {\"name\": \"data-5cbb14e019918d8312405e00924012bc\"}, \"height\": 600, \"width\": 900, \"$schema\": \"https://vega.github.io/schema/vega-lite/v4.17.0.json\", \"datasets\": {\"data-5cbb14e019918d8312405e00924012bc\": [{\"month\": \"2021-01-01T00:00:00\", \"count\": 62, \"median\": 4450.0, \"mean\": 8705.145161290322}, {\"month\": \"2021-02-01T00:00:00\", \"count\": 85, \"median\": 2759.0, \"mean\": 8169.964705882353}, {\"month\": \"2021-03-01T00:00:00\", \"count\": 110, \"median\": 4015.0, \"mean\": 5847.354545454546}, {\"month\": \"2021-04-01T00:00:00\", \"count\": 84, \"median\": 4000.0, \"mean\": 11275.559523809523}, {\"month\": \"2021-05-01T00:00:00\", \"count\": 87, \"median\": 2650.0, \"mean\": 6420.689655172414}, {\"month\": \"2021-06-01T00:00:00\", \"count\": 56, \"median\": 2600.0, \"mean\": 5424.410714285715}, {\"month\": \"2021-07-01T00:00:00\", \"count\": 141, \"median\": 5740.0, \"mean\": 10388.595744680852}, {\"month\": \"2021-08-01T00:00:00\", \"count\": 109, \"median\": 4798.0, \"mean\": 9371.412844036697}, {\"month\": \"2021-09-01T00:00:00\", \"count\": 130, \"median\": 3179.0, \"mean\": 6971.784615384616}, {\"month\": \"2021-10-01T00:00:00\", \"count\": 133, \"median\": 5855.0, \"mean\": 11114.42857142857}, {\"month\": \"2021-11-01T00:00:00\", \"count\": 126, \"median\": 3210.0, \"mean\": 8083.68253968254}, {\"month\": \"2021-12-01T00:00:00\", \"count\": 164, \"median\": 4737.0, \"mean\": 10561.378048780487}, {\"month\": \"2022-01-01T00:00:00\", \"count\": 277, \"median\": 3735.0, \"mean\": 9554.234657039711}, {\"month\": \"2022-02-01T00:00:00\", \"count\": 266, \"median\": 5400.0, \"mean\": 10133.924812030074}, {\"month\": \"2022-03-01T00:00:00\", \"count\": 426, \"median\": 4030.0, \"mean\": 8175.295774647887}, {\"month\": \"2022-04-01T00:00:00\", \"count\": 454, \"median\": 4403.5, \"mean\": 10017.764317180618}, {\"month\": \"2022-05-01T00:00:00\", \"count\": 602, \"median\": 4189.0, \"mean\": 17738.272425249168}, {\"month\": \"2022-06-01T00:00:00\", \"count\": 924, \"median\": 4195.0, \"mean\": 9765.833333333334}, {\"month\": \"2022-07-01T00:00:00\", \"count\": 1013, \"median\": 4085.0, \"mean\": 8111.057255676209}, {\"month\": \"2022-08-01T00:00:00\", \"count\": 1415, \"median\": 3900.0, \"mean\": 11146.436749116609}, {\"month\": \"2022-09-01T00:00:00\", \"count\": 1636, \"median\": 3600.0, \"mean\": 6973.587408312958}, {\"month\": \"2022-10-01T00:00:00\", \"count\": 2463, \"median\": 3220.0, \"mean\": 6746.61185546082}, {\"month\": \"2022-11-01T00:00:00\", \"count\": 3991, \"median\": 3500.0, \"mean\": 6401.790528689551}, {\"month\": \"2022-12-01T00:00:00\", \"count\": 4153, \"median\": 3550.0, \"mean\": 6428.242475319046}, {\"month\": \"2023-01-01T00:00:00\", \"count\": 1843, \"median\": 4000.0, \"mean\": 8358.119370591427}, {\"month\": \"2023-02-01T00:00:00\", \"count\": 1296, \"median\": 4083.5, \"mean\": 9654.013888888889}, {\"month\": \"2023-03-01T00:00:00\", \"count\": 3415, \"median\": 3900.0, \"mean\": 7666.094289897511}, {\"month\": \"2023-04-01T00:00:00\", \"count\": 3855, \"median\": 4308.0, \"mean\": 7750.005447470817}, {\"month\": \"2023-05-01T00:00:00\", \"count\": 1274, \"median\": 3884.0, \"mean\": 7600.722135007849}, {\"month\": \"2023-06-01T00:00:00\", \"count\": 1148, \"median\": 4000.0, \"mean\": 7018.187282229966}, {\"month\": \"2023-07-01T00:00:00\", \"count\": 444, \"median\": 3195.0, \"mean\": 3567.261261261261}]}}, {\"mode\": \"vega-lite\"});\n",
       "</script>"
      ],
      "text/plain": [
       "alt.LayerChart(...)"
      ]
     },
     "execution_count": 14,
     "metadata": {},
     "output_type": "execute_result"
    }
   ],
   "source": [
    "(\n",
    "    alt.Chart(aux).mark_point().encode(x='month', y='median', tooltip=['month', 'count', 'median']) +\n",
    "    alt.Chart(aux).mark_line().encode(x='month', y='median')\n",
    ").properties(width=900, height=600).interactive()"
   ]
  },
  {
   "cell_type": "code",
   "execution_count": 17,
   "metadata": {},
   "outputs": [
    {
     "data": {
      "text/html": [
       "\n",
       "<div id=\"altair-viz-df69c469345e4d448481a3094c7bc419\"></div>\n",
       "<script type=\"text/javascript\">\n",
       "  var VEGA_DEBUG = (typeof VEGA_DEBUG == \"undefined\") ? {} : VEGA_DEBUG;\n",
       "  (function(spec, embedOpt){\n",
       "    let outputDiv = document.currentScript.previousElementSibling;\n",
       "    if (outputDiv.id !== \"altair-viz-df69c469345e4d448481a3094c7bc419\") {\n",
       "      outputDiv = document.getElementById(\"altair-viz-df69c469345e4d448481a3094c7bc419\");\n",
       "    }\n",
       "    const paths = {\n",
       "      \"vega\": \"https://cdn.jsdelivr.net/npm//vega@5?noext\",\n",
       "      \"vega-lib\": \"https://cdn.jsdelivr.net/npm//vega-lib?noext\",\n",
       "      \"vega-lite\": \"https://cdn.jsdelivr.net/npm//vega-lite@4.17.0?noext\",\n",
       "      \"vega-embed\": \"https://cdn.jsdelivr.net/npm//vega-embed@6?noext\",\n",
       "    };\n",
       "\n",
       "    function maybeLoadScript(lib, version) {\n",
       "      var key = `${lib.replace(\"-\", \"\")}_version`;\n",
       "      return (VEGA_DEBUG[key] == version) ?\n",
       "        Promise.resolve(paths[lib]) :\n",
       "        new Promise(function(resolve, reject) {\n",
       "          var s = document.createElement('script');\n",
       "          document.getElementsByTagName(\"head\")[0].appendChild(s);\n",
       "          s.async = true;\n",
       "          s.onload = () => {\n",
       "            VEGA_DEBUG[key] = version;\n",
       "            return resolve(paths[lib]);\n",
       "          };\n",
       "          s.onerror = () => reject(`Error loading script: ${paths[lib]}`);\n",
       "          s.src = paths[lib];\n",
       "        });\n",
       "    }\n",
       "\n",
       "    function showError(err) {\n",
       "      outputDiv.innerHTML = `<div class=\"error\" style=\"color:red;\">${err}</div>`;\n",
       "      throw err;\n",
       "    }\n",
       "\n",
       "    function displayChart(vegaEmbed) {\n",
       "      vegaEmbed(outputDiv, spec, embedOpt)\n",
       "        .catch(err => showError(`Javascript Error: ${err.message}<br>This usually means there's a typo in your chart specification. See the javascript console for the full traceback.`));\n",
       "    }\n",
       "\n",
       "    if(typeof define === \"function\" && define.amd) {\n",
       "      requirejs.config({paths});\n",
       "      require([\"vega-embed\"], displayChart, err => showError(`Error loading script: ${err.message}`));\n",
       "    } else {\n",
       "      maybeLoadScript(\"vega\", \"5\")\n",
       "        .then(() => maybeLoadScript(\"vega-lite\", \"4.17.0\"))\n",
       "        .then(() => maybeLoadScript(\"vega-embed\", \"6\"))\n",
       "        .catch(showError)\n",
       "        .then(() => displayChart(vegaEmbed));\n",
       "    }\n",
       "  })({\"config\": {\"view\": {\"continuousWidth\": 400, \"continuousHeight\": 300}}, \"layer\": [{\"mark\": \"point\", \"encoding\": {\"tooltip\": [{\"field\": \"month\", \"type\": \"temporal\"}, {\"field\": \"igpm\", \"type\": \"quantitative\"}], \"x\": {\"field\": \"month\", \"type\": \"temporal\"}, \"y\": {\"field\": \"igpm\", \"type\": \"quantitative\"}}, \"selection\": {\"selector004\": {\"type\": \"interval\", \"bind\": \"scales\", \"encodings\": [\"x\", \"y\"]}}}, {\"mark\": \"line\", \"encoding\": {\"x\": {\"field\": \"month\", \"type\": \"temporal\"}, \"y\": {\"field\": \"igpm\", \"type\": \"quantitative\"}}}], \"data\": {\"name\": \"data-ce3551f79e5232bf28671251e66deb0a\"}, \"height\": 600, \"width\": 900, \"$schema\": \"https://vega.github.io/schema/vega-lite/v4.17.0.json\", \"datasets\": {\"data-ce3551f79e5232bf28671251e66deb0a\": [{\"month\": \"2009-01-01T00:00:00\", \"igpm\": -0.44}, {\"month\": \"2009-02-01T00:00:00\", \"igpm\": 0.26}, {\"month\": \"2009-03-01T00:00:00\", \"igpm\": -0.74}, {\"month\": \"2009-04-01T00:00:00\", \"igpm\": -0.15}, {\"month\": \"2009-05-01T00:00:00\", \"igpm\": -0.07}, {\"month\": \"2009-06-01T00:00:00\", \"igpm\": -0.1}, {\"month\": \"2009-07-01T00:00:00\", \"igpm\": -0.43}, {\"month\": \"2009-08-01T00:00:00\", \"igpm\": -0.36}, {\"month\": \"2009-09-01T00:00:00\", \"igpm\": 0.42}, {\"month\": \"2009-10-01T00:00:00\", \"igpm\": 0.05}, {\"month\": \"2009-11-01T00:00:00\", \"igpm\": 0.1}, {\"month\": \"2009-12-01T00:00:00\", \"igpm\": -0.26}, {\"month\": \"2010-01-01T00:00:00\", \"igpm\": 0.63}, {\"month\": \"2010-02-01T00:00:00\", \"igpm\": 1.18}, {\"month\": \"2010-03-01T00:00:00\", \"igpm\": 0.94}, {\"month\": \"2010-04-01T00:00:00\", \"igpm\": 0.77}, {\"month\": \"2010-05-01T00:00:00\", \"igpm\": 1.19}, {\"month\": \"2010-06-01T00:00:00\", \"igpm\": 0.85}, {\"month\": \"2010-07-01T00:00:00\", \"igpm\": 0.15}, {\"month\": \"2010-08-01T00:00:00\", \"igpm\": 0.77}, {\"month\": \"2010-09-01T00:00:00\", \"igpm\": 1.15}, {\"month\": \"2010-10-01T00:00:00\", \"igpm\": 1.01}, {\"month\": \"2010-11-01T00:00:00\", \"igpm\": 1.45}, {\"month\": \"2010-12-01T00:00:00\", \"igpm\": 0.69}, {\"month\": \"2011-01-01T00:00:00\", \"igpm\": 0.79}, {\"month\": \"2011-02-01T00:00:00\", \"igpm\": 1.0}, {\"month\": \"2011-03-01T00:00:00\", \"igpm\": 0.62}, {\"month\": \"2011-04-01T00:00:00\", \"igpm\": 0.45}, {\"month\": \"2011-05-01T00:00:00\", \"igpm\": 0.43}, {\"month\": \"2011-06-01T00:00:00\", \"igpm\": -0.18}, {\"month\": \"2011-07-01T00:00:00\", \"igpm\": -0.12}, {\"month\": \"2011-08-01T00:00:00\", \"igpm\": 0.44}, {\"month\": \"2011-09-01T00:00:00\", \"igpm\": 0.65}, {\"month\": \"2011-10-01T00:00:00\", \"igpm\": 0.53}, {\"month\": \"2011-11-01T00:00:00\", \"igpm\": 0.5}, {\"month\": \"2011-12-01T00:00:00\", \"igpm\": -0.12}, {\"month\": \"2012-01-01T00:00:00\", \"igpm\": 0.25}, {\"month\": \"2012-02-01T00:00:00\", \"igpm\": -0.06}, {\"month\": \"2012-03-01T00:00:00\", \"igpm\": 0.43}, {\"month\": \"2012-04-01T00:00:00\", \"igpm\": 0.85}, {\"month\": \"2012-05-01T00:00:00\", \"igpm\": 1.02}, {\"month\": \"2012-06-01T00:00:00\", \"igpm\": 0.66}, {\"month\": \"2012-07-01T00:00:00\", \"igpm\": 1.34}, {\"month\": \"2012-08-01T00:00:00\", \"igpm\": 1.43}, {\"month\": \"2012-09-01T00:00:00\", \"igpm\": 0.97}, {\"month\": \"2012-10-01T00:00:00\", \"igpm\": 0.02}, {\"month\": \"2012-11-01T00:00:00\", \"igpm\": -0.03}, {\"month\": \"2012-12-01T00:00:00\", \"igpm\": 0.68}, {\"month\": \"2013-01-01T00:00:00\", \"igpm\": 0.34}, {\"month\": \"2013-02-01T00:00:00\", \"igpm\": 0.29}, {\"month\": \"2013-03-01T00:00:00\", \"igpm\": 0.21}, {\"month\": \"2013-04-01T00:00:00\", \"igpm\": 0.15}, {\"month\": \"2013-05-01T00:00:00\", \"igpm\": 0.0}, {\"month\": \"2013-06-01T00:00:00\", \"igpm\": 0.75}, {\"month\": \"2013-07-01T00:00:00\", \"igpm\": 0.26}, {\"month\": \"2013-08-01T00:00:00\", \"igpm\": 0.15}, {\"month\": \"2013-09-01T00:00:00\", \"igpm\": 1.5}, {\"month\": \"2013-10-01T00:00:00\", \"igpm\": 0.86}, {\"month\": \"2013-11-01T00:00:00\", \"igpm\": 0.29}, {\"month\": \"2013-12-01T00:00:00\", \"igpm\": 0.6}, {\"month\": \"2014-01-01T00:00:00\", \"igpm\": 0.48}, {\"month\": \"2014-02-01T00:00:00\", \"igpm\": 0.38}, {\"month\": \"2014-03-01T00:00:00\", \"igpm\": 1.67}, {\"month\": \"2014-04-01T00:00:00\", \"igpm\": 0.78}, {\"month\": \"2014-05-01T00:00:00\", \"igpm\": -0.13}, {\"month\": \"2014-06-01T00:00:00\", \"igpm\": -0.74}, {\"month\": \"2014-07-01T00:00:00\", \"igpm\": -0.61}, {\"month\": \"2014-08-01T00:00:00\", \"igpm\": -0.27}, {\"month\": \"2014-09-01T00:00:00\", \"igpm\": 0.2}, {\"month\": \"2014-10-01T00:00:00\", \"igpm\": 0.28}, {\"month\": \"2014-11-01T00:00:00\", \"igpm\": 0.98}, {\"month\": \"2014-12-01T00:00:00\", \"igpm\": 0.62}, {\"month\": \"2015-01-01T00:00:00\", \"igpm\": 0.76}, {\"month\": \"2015-02-01T00:00:00\", \"igpm\": 0.27}, {\"month\": \"2015-03-01T00:00:00\", \"igpm\": 0.98}, {\"month\": \"2015-04-01T00:00:00\", \"igpm\": 1.17}, {\"month\": \"2015-05-01T00:00:00\", \"igpm\": 0.41}, {\"month\": \"2015-06-01T00:00:00\", \"igpm\": 0.67}, {\"month\": \"2015-07-01T00:00:00\", \"igpm\": 0.69}, {\"month\": \"2015-08-01T00:00:00\", \"igpm\": 0.28}, {\"month\": \"2015-09-01T00:00:00\", \"igpm\": 0.95}, {\"month\": \"2015-10-01T00:00:00\", \"igpm\": 1.89}, {\"month\": \"2015-11-01T00:00:00\", \"igpm\": 1.52}, {\"month\": \"2015-12-01T00:00:00\", \"igpm\": 0.49}, {\"month\": \"2016-01-01T00:00:00\", \"igpm\": 1.14}, {\"month\": \"2016-02-01T00:00:00\", \"igpm\": 1.0}, {\"month\": \"2016-03-01T00:00:00\", \"igpm\": 0.51}, {\"month\": \"2016-04-01T00:00:00\", \"igpm\": 0.33}, {\"month\": \"2016-05-01T00:00:00\", \"igpm\": 0.82}, {\"month\": \"2016-06-01T00:00:00\", \"igpm\": 1.69}, {\"month\": \"2016-07-01T00:00:00\", \"igpm\": 0.18}, {\"month\": \"2016-08-01T00:00:00\", \"igpm\": 0.15}, {\"month\": \"2016-09-01T00:00:00\", \"igpm\": 0.2}, {\"month\": \"2016-10-01T00:00:00\", \"igpm\": 0.16}, {\"month\": \"2016-11-01T00:00:00\", \"igpm\": -0.03}, {\"month\": \"2016-12-01T00:00:00\", \"igpm\": 0.54}, {\"month\": \"2017-01-01T00:00:00\", \"igpm\": 0.64}, {\"month\": \"2017-02-01T00:00:00\", \"igpm\": 0.08}, {\"month\": \"2017-03-01T00:00:00\", \"igpm\": 0.01}, {\"month\": \"2017-04-01T00:00:00\", \"igpm\": -1.1}, {\"month\": \"2017-05-01T00:00:00\", \"igpm\": -0.93}, {\"month\": \"2017-06-01T00:00:00\", \"igpm\": -0.67}, {\"month\": \"2017-07-01T00:00:00\", \"igpm\": -0.72}, {\"month\": \"2017-08-01T00:00:00\", \"igpm\": 0.1}, {\"month\": \"2017-09-01T00:00:00\", \"igpm\": 0.47}, {\"month\": \"2017-10-01T00:00:00\", \"igpm\": 0.2}, {\"month\": \"2017-11-01T00:00:00\", \"igpm\": 0.52}, {\"month\": \"2017-12-01T00:00:00\", \"igpm\": 0.89}, {\"month\": \"2018-01-01T00:00:00\", \"igpm\": 0.76}, {\"month\": \"2018-02-01T00:00:00\", \"igpm\": 0.07}, {\"month\": \"2018-03-01T00:00:00\", \"igpm\": 0.64}, {\"month\": \"2018-04-01T00:00:00\", \"igpm\": 0.57}, {\"month\": \"2018-05-01T00:00:00\", \"igpm\": 1.38}, {\"month\": \"2018-06-01T00:00:00\", \"igpm\": 1.87}, {\"month\": \"2018-07-01T00:00:00\", \"igpm\": 0.51}, {\"month\": \"2018-08-01T00:00:00\", \"igpm\": 0.7}, {\"month\": \"2018-09-01T00:00:00\", \"igpm\": 1.52}, {\"month\": \"2018-10-01T00:00:00\", \"igpm\": 0.89}, {\"month\": \"2018-11-01T00:00:00\", \"igpm\": -0.49}, {\"month\": \"2018-12-01T00:00:00\", \"igpm\": -1.08}, {\"month\": \"2019-01-01T00:00:00\", \"igpm\": 0.01}, {\"month\": \"2019-02-01T00:00:00\", \"igpm\": 0.88}, {\"month\": \"2019-03-01T00:00:00\", \"igpm\": 1.26}, {\"month\": \"2019-04-01T00:00:00\", \"igpm\": 0.92}, {\"month\": \"2019-05-01T00:00:00\", \"igpm\": 0.45}, {\"month\": \"2019-06-01T00:00:00\", \"igpm\": 0.8}, {\"month\": \"2019-07-01T00:00:00\", \"igpm\": 0.4}, {\"month\": \"2019-08-01T00:00:00\", \"igpm\": -0.67}, {\"month\": \"2019-09-01T00:00:00\", \"igpm\": -0.01}, {\"month\": \"2019-10-01T00:00:00\", \"igpm\": 0.68}, {\"month\": \"2019-11-01T00:00:00\", \"igpm\": 0.3}, {\"month\": \"2019-12-01T00:00:00\", \"igpm\": 2.09}, {\"month\": \"2020-01-01T00:00:00\", \"igpm\": 0.48}, {\"month\": \"2020-02-01T00:00:00\", \"igpm\": -0.04}, {\"month\": \"2020-03-01T00:00:00\", \"igpm\": 1.24}, {\"month\": \"2020-04-01T00:00:00\", \"igpm\": 0.8}, {\"month\": \"2020-05-01T00:00:00\", \"igpm\": 0.28}, {\"month\": \"2020-06-01T00:00:00\", \"igpm\": 1.56}, {\"month\": \"2020-07-01T00:00:00\", \"igpm\": 2.23}, {\"month\": \"2020-08-01T00:00:00\", \"igpm\": 2.74}, {\"month\": \"2020-09-01T00:00:00\", \"igpm\": 4.34}, {\"month\": \"2020-10-01T00:00:00\", \"igpm\": 3.23}, {\"month\": \"2020-11-01T00:00:00\", \"igpm\": 3.28}, {\"month\": \"2020-12-01T00:00:00\", \"igpm\": 0.96}, {\"month\": \"2021-01-01T00:00:00\", \"igpm\": 2.58}, {\"month\": \"2021-02-01T00:00:00\", \"igpm\": 2.53}, {\"month\": \"2021-03-01T00:00:00\", \"igpm\": 2.94}, {\"month\": \"2021-04-01T00:00:00\", \"igpm\": 1.51}, {\"month\": \"2021-05-01T00:00:00\", \"igpm\": 4.1}, {\"month\": \"2021-06-01T00:00:00\", \"igpm\": 0.6}, {\"month\": \"2021-07-01T00:00:00\", \"igpm\": 0.78}, {\"month\": \"2021-08-01T00:00:00\", \"igpm\": 0.66}, {\"month\": \"2021-09-01T00:00:00\", \"igpm\": -0.64}, {\"month\": \"2021-10-01T00:00:00\", \"igpm\": 0.64}, {\"month\": \"2021-11-01T00:00:00\", \"igpm\": 0.02}, {\"month\": \"2021-12-01T00:00:00\", \"igpm\": 0.87}, {\"month\": \"2022-01-01T00:00:00\", \"igpm\": 1.82}, {\"month\": \"2022-02-01T00:00:00\", \"igpm\": 1.83}, {\"month\": \"2022-03-01T00:00:00\", \"igpm\": 1.74}, {\"month\": \"2022-04-01T00:00:00\", \"igpm\": 1.41}, {\"month\": \"2022-05-01T00:00:00\", \"igpm\": 0.52}, {\"month\": \"2022-06-01T00:00:00\", \"igpm\": 0.59}, {\"month\": \"2022-07-01T00:00:00\", \"igpm\": 0.21}, {\"month\": \"2022-08-01T00:00:00\", \"igpm\": -0.7}, {\"month\": \"2022-09-01T00:00:00\", \"igpm\": -0.95}, {\"month\": \"2022-10-01T00:00:00\", \"igpm\": -0.97}, {\"month\": \"2022-11-01T00:00:00\", \"igpm\": -0.56}, {\"month\": \"2022-12-01T00:00:00\", \"igpm\": 0.45}, {\"month\": \"2023-01-01T00:00:00\", \"igpm\": 0.21}, {\"month\": \"2023-02-01T00:00:00\", \"igpm\": -0.06}, {\"month\": \"2023-03-01T00:00:00\", \"igpm\": 0.05}, {\"month\": \"2023-04-01T00:00:00\", \"igpm\": -0.95}, {\"month\": \"2023-05-01T00:00:00\", \"igpm\": -1.84}, {\"month\": \"2023-06-01T00:00:00\", \"igpm\": -1.93}, {\"month\": \"2023-07-01T00:00:00\", \"igpm\": -0.72}, {\"month\": \"2023-08-01T00:00:00\", \"igpm\": -5.15}]}}, {\"mode\": \"vega-lite\"});\n",
       "</script>"
      ],
      "text/plain": [
       "alt.LayerChart(...)"
      ]
     },
     "execution_count": 17,
     "metadata": {},
     "output_type": "execute_result"
    }
   ],
   "source": [
    "(\n",
    "    alt.Chart(igpm).mark_point().encode(x='month', y='igpm', tooltip=['month', 'igpm']) +\n",
    "    alt.Chart(igpm).mark_line().encode(x='month', y='igpm')\n",
    ").properties(width=900, height=600).interactive()"
   ]
  },
  {
   "cell_type": "code",
   "execution_count": null,
   "metadata": {},
   "outputs": [],
   "source": []
  },
  {
   "cell_type": "code",
   "execution_count": null,
   "metadata": {},
   "outputs": [],
   "source": []
  },
  {
   "cell_type": "code",
   "execution_count": null,
   "metadata": {},
   "outputs": [],
   "source": []
  }
 ],
 "metadata": {
  "kernelspec": {
   "display_name": "model-DD7yu-jy-py3.10",
   "language": "python",
   "name": "python3"
  },
  "language_info": {
   "codemirror_mode": {
    "name": "ipython",
    "version": 3
   },
   "file_extension": ".py",
   "mimetype": "text/x-python",
   "name": "python",
   "nbconvert_exporter": "python",
   "pygments_lexer": "ipython3",
   "version": "3.10.6"
  },
  "orig_nbformat": 4
 },
 "nbformat": 4,
 "nbformat_minor": 2
}
